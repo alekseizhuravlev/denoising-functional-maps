{
 "cells": [
  {
   "cell_type": "code",
   "execution_count": 1,
   "metadata": {},
   "outputs": [],
   "source": [
    "import pickle as pkl\n",
    "import trimesh\n",
    "\n",
    "# download the SMPL code from https://smpl.is.tue.mpg.de/\n",
    "# put it to denoisfm/data_generation/smpl_webuser\n",
    "from denoisfm.data_generation.smpl_webuser.serialization import load_model\n",
    "\n",
    "scene = trimesh.Scene()\n",
    "\n",
    "# download the SMAL model from https://smal.is.tue.mpg.de/\n",
    "# put it to denoisfm/data_generation/smal_online\n",
    "model_path = 'denoisfm/data_generation/smal_online/smal_CVPR2017.pkl'\n",
    "model = load_model(model_path)"
   ]
  },
  {
   "cell_type": "markdown",
   "metadata": {},
   "source": [
    "### Template"
   ]
  },
  {
   "cell_type": "code",
   "execution_count": 4,
   "metadata": {},
   "outputs": [],
   "source": [
    "import denoisfm.utils.preprocessing_util as preprocessing_util\n",
    "import denoisfm.utils.fmap_util as fmap_util\n",
    "import denoisfm.utils.remesh_util as remesh_util\n",
    "import torch\n",
    "import numpy as np\n",
    "\n",
    "# Template is the mean model\n",
    "# model.r are the mesh vertices, and model.f are the mesh faces.\n",
    "verts_orig = torch.tensor(model.r, dtype=torch.float32)\n",
    "faces_orig = torch.tensor(model.f.astype(np.int64), dtype=torch.long)\n",
    "\n",
    "# normalize the face area to 1\n",
    "verts_orig = preprocessing_util.normalize_face_area(verts_orig, faces_orig)\n",
    "   \n",
    "# remesh to break SMAL connectivity   \n",
    "verts_r, faces_r = remesh_util.remesh_simplify_iso(\n",
    "    verts=verts_orig,\n",
    "    faces=faces_orig,\n",
    "    simplify_strength=1, # no simplification, keep 100% of the faces\n",
    "    )\n",
    "\n",
    "# save the remeshed template\n",
    "template_remeshed = trimesh.Trimesh(\n",
    "    vertices=verts_r,\n",
    "    faces=faces_r\n",
    "    )\n",
    "template_remeshed.export('data/template/animal/template.off')\n",
    "\n",
    "# correspondences to SMAL shapes\n",
    "corr_r = fmap_util.nn_query(\n",
    "    verts_r,\n",
    "    verts_orig, \n",
    "    )\n",
    "np.savetxt(\n",
    "    'data/template/animal/corr.txt',\n",
    "    corr_r.numpy() + 1, fmt='%d'\n",
    "    )"
   ]
  },
  {
   "cell_type": "code",
   "execution_count": null,
   "metadata": {},
   "outputs": [],
   "source": [
    "# view the remeshed template\n",
    "scene.geometry.clear()\n",
    "scene.add_geometry(trimesh.creation.axis(origin_size=0.1))\n",
    "\n",
    "scene.add_geometry(template_remeshed)\n",
    "\n",
    "scene.set_camera()\n",
    "scene.show()"
   ]
  },
  {
   "cell_type": "markdown",
   "metadata": {},
   "source": [
    "### Generate other poses for each train shape"
   ]
  },
  {
   "cell_type": "code",
   "execution_count": 3,
   "metadata": {},
   "outputs": [],
   "source": [
    "# base directory where you store the data\n",
    "base_dir = '/lustre/mlnvme/data/s94zalek_hpc-shape_matching/data_denoisfm'"
   ]
  },
  {
   "cell_type": "code",
   "execution_count": 4,
   "metadata": {},
   "outputs": [
    {
     "name": "stdout",
     "output_type": "stream",
     "text": [
      "Names of the training shapes: ['lion_01', 'horse_02', 'horse_03', 'cougar_01', 'cougar_02', 'cow_01', 'cow_02', 'cow_05', 'dog_03', 'dog_02', 'fox_03', 'fox_04', 'horse_05', 'hippo_05', 'hippo_02', 'hippo_03', 'hippo_04', 'lion_03', 'lion_04', 'horse_06', 'horse_07', 'horse_09', 'horse_10', 'cow_07', 'dog_04', 'dog_06', 'dog_07', 'cougar_03', 'cougar_04', 'dog_09', 'cow_08', 'wolf_02']\n"
     ]
    }
   ],
   "source": [
    "train_names = f'{base_dir}/test/SMAL_r/train.txt'\n",
    "\n",
    "# read the train names, e.g. lion_01, horse_02\n",
    "with open(train_names) as f:\n",
    "    train_names = f.readlines()\n",
    "    train_names = [x.strip() for x in train_names]\n",
    "    \n",
    "print('Names of the training shapes:', train_names)"
   ]
  },
  {
   "cell_type": "code",
   "execution_count": 5,
   "metadata": {},
   "outputs": [
    {
     "name": "stdout",
     "output_type": "stream",
     "text": [
      "Name map: {'horse_01': '00028740_ferrari', 'horse_02': '00047093_ferrari', 'horse_03': '00049424_ferrari', 'horse_04': '00057894_ferrari', 'cougar_01': '00211799_ferrari', 'lion_01': '450-122410176-lions-natural-habitat', 'dog_01': 'Brown-And-White-Akita-Dog_alph', 'cougar_02': 'cougar', 'cow_01': 'cow_alph', 'cow_02': 'cow_alph4', 'cow_03': 'cow_alph5', 'cow_04': 'cow2', 'cow_05': 'Davis_cow_00000', 'dog_02': 'dog_alph', 'dog_03': 'dog2', 'fox_01': 'fox', 'fox_02': 'fox_alph', 'fox_03': 'fox-05', 'fox_04': 'fox-06', 'horse_05': 'grazing', 'hippo_01': 'hippo_alpha', 'hippo_02': 'hippo_alpha_mouthopen2', 'hippo_03': 'Hippo_for_Nat', 'hippo_04': 'hippo_walking', 'hippo_05': 'hippo5', 'hippo_06': 'hippos', 'lion_02': 'lion_yawn', 'lion_03': 'lion3', 'lion_04': 'lion6', 'lion_05': 'MaleLion800', 'horse_06': 'muybridge_014_01', 'horse_07': 'muybridge_030_02', 'horse_08': 'muybridge_071_04', 'horse_09': 'muybridge_074_01', 'horse_10': 'muybridge_075_04', 'cow_06': 'muybridge_076_04', 'cow_07': 'muybridge_087_04', 'dog_04': 'muybridge_097_01', 'dog_05': 'muybridge_097_02', 'dog_06': 'muybridge_101_03', 'dog_07': 'muybridge_102_03', 'dog_08': 'muybridge_104_04', 'cougar_03': 'muybridge_107_110_03', 'cougar_04': 'muybridge_132_133_07', 'dog_09': 'NORTHERN-INUIT-DOG-3', 'wolf_01': 'stalking_wolf_cub_by_nieme', 'cow_08': 'timthumb', 'wolf_02': 'wolf_alph2', 'wolf_03': 'wolf_alph3'}\n"
     ]
    }
   ],
   "source": [
    "# read name map from train names to the names of fitted parameters\n",
    "# e.g. 00028740_ferrari horse_01\n",
    "name_map = f'{base_dir}/test/SMAL_r/name_map.txt'\n",
    "\n",
    "with open(name_map) as f:\n",
    "    name_map = f.readlines()\n",
    "    name_map = [x.strip() for x in name_map]\n",
    "    \n",
    "    name_map = dict([x.split()[::-1] for x in name_map])\n",
    "    \n",
    "print('Name map:', name_map)"
   ]
  },
  {
   "cell_type": "markdown",
   "metadata": {},
   "source": [
    "## Generate 64k training animals"
   ]
  },
  {
   "cell_type": "code",
   "execution_count": null,
   "metadata": {},
   "outputs": [],
   "source": [
    "import torch\n",
    "import numpy as np\n",
    "from tqdm import tqdm\n",
    "import os\n",
    "\n",
    "\n",
    "shape_list = []\n",
    "\n",
    "iterator = tqdm(train_names)\n",
    "for train_name in iterator:\n",
    "    \n",
    "    iterator.set_description(train_name)\n",
    "\n",
    "    orig_name = name_map[train_name]\n",
    "\n",
    "    orig_path = f'{base_dir}/test/SMAL_fitted/{orig_name}.pkl'\n",
    "    with open(orig_path, 'rb') as orig_path:\n",
    "        shape_data = pkl.load(orig_path, encoding=\"latin1\")\n",
    "        \n",
    "        \n",
    "    for i in range(6000):\n",
    "        \n",
    "        # randomize the shape parameter\n",
    "        model.betas[:] = np.zeros_like(model.betas)\n",
    "        model.betas[:20] = np.array(shape_data['beta']) + 0.05 * np.random.randn(*shape_data['beta'].shape)\n",
    "\n",
    "        # randomize the pose parameter\n",
    "        model.pose[:] = np.array(shape_data['pose']) + 0.2 * np.random.randn(*shape_data['pose'].shape)\n",
    "        model.pose[0:3]=0\n",
    "\n",
    "        model.trans[:] = 0.\n",
    "\n",
    "        shape_list.append(torch.tensor(model.r.copy(), dtype=torch.float32))\n",
    "       \n",
    "shape_list = torch.stack(shape_list)\n",
    "\n",
    "save_dir = f'{base_dir}/train/base/SMAL_{len(shape_list)}'\n",
    "os.makedirs(save_dir, exist_ok=True)\n",
    "\n",
    "# save the vertices\n",
    "torch.save(\n",
    "    shape_list, \n",
    "    f'{save_dir}/verts.pt'\n",
    ")\n",
    "# save the faces\n",
    "torch.save(\n",
    "    faces_orig, \n",
    "    f'{save_dir}/faces.pt'\n",
    ")\n",
    " "
   ]
  },
  {
   "cell_type": "code",
   "execution_count": null,
   "metadata": {},
   "outputs": [],
   "source": [
    "import torch\n",
    "import numpy as np\n",
    "\n",
    "# read 10 random meshes from the training set and plot them\n",
    "scene.geometry.clear()\n",
    "\n",
    "random_indices = np.random.choice(shape_list.shape[0], 10, replace=False)\n",
    "\n",
    "for i, idx in enumerate(random_indices):\n",
    "    mesh = trimesh.Trimesh(\n",
    "        vertices=shape_list[idx].numpy(),\n",
    "        faces=model.f\n",
    "        )\n",
    "    \n",
    "    mesh.vertices += np.array([2*i, 0, 0])\n",
    "    \n",
    "    scene.add_geometry(mesh)\n",
    "    \n",
    "scene.set_camera()\n",
    "scene.show()"
   ]
  }
 ],
 "metadata": {
  "kernelspec": {
   "display_name": "Python 3 (ipykernel)",
   "language": "python",
   "name": "python3"
  },
  "language_info": {
   "codemirror_mode": {
    "name": "ipython",
    "version": 3
   },
   "file_extension": ".py",
   "mimetype": "text/x-python",
   "name": "python",
   "nbconvert_exporter": "python",
   "pygments_lexer": "ipython3",
   "version": "3.8.20"
  }
 },
 "nbformat": 4,
 "nbformat_minor": 2
}
