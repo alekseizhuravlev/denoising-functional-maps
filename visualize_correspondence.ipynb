{
 "cells": [
  {
   "cell_type": "markdown",
   "metadata": {},
   "source": [
    "## Load the meshes"
   ]
  },
  {
   "cell_type": "code",
   "execution_count": null,
   "metadata": {},
   "outputs": [],
   "source": [
    "import trimesh\n",
    "\n",
    "mesh_1 = trimesh.load('data/example/off/tr_reg_082.off', process=False, validate=False)\n",
    "mesh_2 = trimesh.load('data/example/off/tr_reg_096.off', process=False, validate=False)\n",
    "\n",
    "mesh_template = trimesh.load('data/template/human/template.off', process=False, validate=False)"
   ]
  },
  {
   "cell_type": "code",
   "execution_count": null,
   "metadata": {},
   "outputs": [],
   "source": [
    "import denoisfm.utils.preprocessing_util as preprocessing_util\n",
    "import torch\n",
    "\n",
    "def preprocess_mesh(mesh):\n",
    "    verts = preprocessing_util.normalize_face_area(\n",
    "        torch.tensor(mesh.vertices),\n",
    "        torch.tensor(mesh.faces)\n",
    "        )\n",
    "    mesh.vertices = preprocessing_util.center_mean(verts)\n",
    "    return mesh\n",
    "\n",
    "\n",
    "mesh_1 = preprocess_mesh(mesh_1)\n",
    "mesh_2 = preprocess_mesh(mesh_2)\n",
    "mesh_template = preprocess_mesh(mesh_template)"
   ]
  },
  {
   "cell_type": "markdown",
   "metadata": {},
   "source": [
    "## Predicted correspondences"
   ]
  },
  {
   "cell_type": "code",
   "execution_count": null,
   "metadata": {},
   "outputs": [],
   "source": [
    "import torch\n",
    "\n",
    "p2p_template_1 = torch.load(\n",
    "    'results/ddpm_64/custom_pair/tr_reg_082_template.pt', weights_only=True\n",
    ")\n",
    "p2p_template_2 = torch.load(\n",
    "    'results/ddpm_64/custom_pair/tr_reg_096_template.pt', weights_only=True\n",
    ")\n",
    "p2p_pairwise = torch.load(\n",
    "    'results/ddpm_64/custom_pair/tr_reg_082_tr_reg_096.pt', weights_only=True\n",
    ")"
   ]
  },
  {
   "cell_type": "code",
   "execution_count": null,
   "metadata": {},
   "outputs": [],
   "source": [
    "def visualize_correspondence(scene, mesh1, mesh2, p2p):\n",
    "    \n",
    "    # copy meshes\n",
    "    mesh1 = mesh1.copy()\n",
    "    mesh2 = mesh2.copy()\n",
    "    \n",
    "    ##################################################\n",
    "    # color gradient\n",
    "    ##################################################\n",
    "    \n",
    "    assert p2p.shape == (len(mesh2.vertices),), f'shapes not equal, p2p: {p2p.shape}, mesh2 vertices: {len(mesh2.vertices)}'\n",
    "    \n",
    "    verts_1 = torch.tensor(mesh1.vertices)\n",
    "    \n",
    "    coords_x_norm = torch.zeros_like(verts_1)\n",
    "    for i in range(3):\n",
    "        coords_x_norm[:, i] = (verts_1[:, i] - verts_1[:, i].min()) / (verts_1[:, i].max() - verts_1[:, i].min())\n",
    "\n",
    "    coords_interpolated = torch.zeros(verts_1.shape[0])\n",
    "    \n",
    "    # axes for gradient\n",
    "    for i in [0, 1]:\n",
    "        coords_interpolated += coords_x_norm[:, i]\n",
    "        \n",
    "    cmap1 = trimesh.visual.color.interpolate(coords_interpolated, 'jet')\n",
    "    cmap2 = cmap1[p2p].clip(0, 255)\n",
    "\n",
    "    ##################################################\n",
    "    # apply color to vertices\n",
    "    ##################################################\n",
    "\n",
    "    mesh1.visual.vertex_colors = cmap1[:len(mesh1.vertices)].clip(0, 255)\n",
    "    mesh2.visual.vertex_colors = cmap2[:len(mesh2.vertices)].clip(0, 255)\n",
    "       \n",
    "    ##################################################\n",
    "    # add the meshes\n",
    "    ##################################################\n",
    "    \n",
    "    # move mesh2 to the right\n",
    "    mesh2.vertices += [1, 0, 0]\n",
    "    \n",
    "    scene.add_geometry(mesh1)\n",
    "    scene.add_geometry(mesh2)\n",
    "    \n",
    "    return scene\n",
    "    "
   ]
  },
  {
   "cell_type": "markdown",
   "metadata": {},
   "source": [
    "## Visualize template-wise correspondences"
   ]
  },
  {
   "cell_type": "code",
   "execution_count": null,
   "metadata": {},
   "outputs": [],
   "source": [
    "scene = trimesh.Scene()"
   ]
  },
  {
   "cell_type": "code",
   "execution_count": null,
   "metadata": {},
   "outputs": [],
   "source": [
    "scene.geometry.clear()\n",
    "\n",
    "scene = visualize_correspondence(scene, mesh_1, mesh_template, p2p_template_1[0])\n",
    "\n",
    "scene.show()"
   ]
  },
  {
   "cell_type": "code",
   "execution_count": null,
   "metadata": {},
   "outputs": [],
   "source": [
    "scene.geometry.clear()\n",
    "\n",
    "scene = visualize_correspondence(scene, mesh_2, mesh_template, p2p_template_2[0])\n",
    "\n",
    "scene.show()"
   ]
  },
  {
   "cell_type": "markdown",
   "metadata": {},
   "source": [
    "## Visualize pairwise correspondences"
   ]
  },
  {
   "cell_type": "code",
   "execution_count": null,
   "metadata": {},
   "outputs": [],
   "source": [
    "scene.geometry.clear()\n",
    "\n",
    "scene = visualize_correspondence(scene, mesh_1, mesh_2, p2p_pairwise)\n",
    "\n",
    "scene.show()"
   ]
  }
 ],
 "metadata": {
  "kernelspec": {
   "display_name": "Python 3 (ipykernel)",
   "language": "python",
   "name": "python3"
  },
  "language_info": {
   "codemirror_mode": {
    "name": "ipython",
    "version": 3
   },
   "file_extension": ".py",
   "mimetype": "text/x-python",
   "name": "python",
   "nbconvert_exporter": "python",
   "pygments_lexer": "ipython3",
   "version": "3.8.20"
  }
 },
 "nbformat": 4,
 "nbformat_minor": 2
}
